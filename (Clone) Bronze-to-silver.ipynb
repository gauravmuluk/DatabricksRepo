{
 "cells": [
  {
   "cell_type": "code",
   "execution_count": 0,
   "metadata": {
    "application/vnd.databricks.v1+cell": {
     "cellMetadata": {
      "byteLimit": 2048000,
      "rowLimit": 10000
     },
     "inputWidgets": {},
     "nuid": "1fec959b-6533-4c17-ba5e-ada053a5d440",
     "showTitle": false,
     "tableResultSettingsMap": {},
     "title": ""
    }
   },
   "outputs": [],
   "source": [
    "# spark.conf.set(\"fs.azure.account.auth.type.productdemandgen2.dfs.core.windows.net\", \"OAuth\")\n",
    "# spark.conf.set(\"fs.azure.account.oauth.provider.type.productdemandgen2.dfs.core.windows.net\", \"org.apache.hadoop.fs.azurebfs.oauth2.ClientCredsTokenProvider\")\n",
    "# spark.conf.set(\"fs.azure.account.oauth2.client.id.productdemandgen2.dfs.core.windows.net\", \"ce8eac0d-b508-42d9-b521-874b0ddbe926\")\n",
    "# spark.conf.set(\"fs.azure.account.oauth2.client.secret.productdemandgen2.dfs.core.windows.net\", \"U4-8Q~Eov~WShrl6Yh9a0XCj2qCTBLL_-qIDXaL9\")\n",
    "# spark.conf.set(\"fs.azure.account.oauth2.client.endpoint.productdemandgen2.dfs.core.windows.net\", \"https://login.microsoftonline.com/ba9d3701-1fca-44e6-b474-474f610b0e97/oauth2/token\")\n"
   ]
  },
  {
   "cell_type": "code",
   "execution_count": 0,
   "metadata": {
    "application/vnd.databricks.v1+cell": {
     "cellMetadata": {
      "byteLimit": 2048000,
      "rowLimit": 10000
     },
     "inputWidgets": {},
     "nuid": "bf564caa-aa36-43b2-9d57-42c505056aa9",
     "showTitle": false,
     "tableResultSettingsMap": {},
     "title": ""
    }
   },
   "outputs": [],
   "source": [
    "from pyspark.sql import SparkSession\n",
    "from pyspark.sql.functions import *\n",
    "from pyspark.sql.types import *\n",
    "import re\n",
    "from pyspark.sql.types import StructType, StructField, StringType, IntegerType, DateType, DoubleType\n",
    "from datetime import datetime, timedelta"
   ]
  },
  {
   "cell_type": "code",
   "execution_count": 0,
   "metadata": {
    "application/vnd.databricks.v1+cell": {
     "cellMetadata": {
      "byteLimit": 2048000,
      "rowLimit": 10000
     },
     "inputWidgets": {},
     "nuid": "d2d88866-ae65-4164-b43f-beff803fa5d0",
     "showTitle": false,
     "tableResultSettingsMap": {},
     "title": ""
    }
   },
   "outputs": [],
   "source": [
    "dbutils.fs.ls(\"/mnt/bronze-gaurav\")"
   ]
  },
  {
   "cell_type": "code",
   "execution_count": 0,
   "metadata": {
    "application/vnd.databricks.v1+cell": {
     "cellMetadata": {
      "byteLimit": 2048000,
      "rowLimit": 10000
     },
     "inputWidgets": {},
     "nuid": "a4c2894c-064e-4d25-bdc8-f969e3be5794",
     "showTitle": false,
     "tableResultSettingsMap": {},
     "title": ""
    }
   },
   "outputs": [],
   "source": [
    "# Define schema for the DataFrame\n",
    "schema = StructType([\n",
    "    StructField(\"Sales_Region\", StringType(), True),\n",
    "    StructField(\"Plant_Id\", StringType(), True),\n",
    "    StructField(\"Sorg\", StringType(), True),\n",
    "    StructField(\"Dch\", IntegerType(), True),\n",
    "    StructField(\"Div\", IntegerType(), True),\n",
    "    StructField(\"Item_Categ\", StringType(), True),\n",
    "    StructField(\"Customer_Grp_Id\", StringType(), True),\n",
    "    StructField(\"Customer_Grp_Name\", StringType(), True),\n",
    "    StructField(\"Order_type\", StringType(), True),\n",
    "    StructField(\"Sales_Order\", IntegerType(), True),\n",
    "    StructField(\"Invoice_No\", IntegerType(), True),\n",
    "    StructField(\"Invoice_Date\", DateType(), True),\n",
    "    StructField(\"State_Name\", StringType(), True),\n",
    "    StructField(\"Sales_Zone\", StringType(), True),\n",
    "    StructField(\"Customer_Id\", IntegerType(), True),\n",
    "    StructField(\"Customer_Name\", StringType(), True),\n",
    "    StructField(\"Address\", StringType(), True),\n",
    "    StructField(\"Product_Id\", IntegerType(), True),\n",
    "    StructField(\"Product_Name\", StringType(), True),\n",
    "    StructField(\"Quantity\", IntegerType(), True),\n",
    "    StructField(\"Basic_Rate\", DoubleType(), True),\n",
    "    StructField(\"Special_Ra\", DoubleType(), True),\n",
    "    StructField(\"Basic_Amt\", DoubleType(), True),\n",
    "    StructField(\"Discount_A\", IntegerType(), True),\n",
    "    StructField(\"Net_Amt_DC\", DoubleType(), True),\n",
    "    StructField(\"D380\", StringType(), True),\n",
    "    StructField(\"Type_Calculations\", StringType(), True),\n",
    "    StructField(\"Product_Family\", StringType(), True),\n",
    "    StructField(\"Product_Type\", StringType(), True),\n",
    "    StructField(\"Product_Category\", StringType(), True),\n",
    "    StructField(\"Quantity_2\", IntegerType(), True),\n",
    "    StructField(\"Per_Coll\", DoubleType(), True),\n",
    "    StructField(\"Number_of_Coll\", DoubleType(), True),\n",
    "    StructField(\"Andris\", StringType(), True),\n",
    "    StructField(\"EWH_Groups\", StringType(), True),\n",
    "    StructField(\"Ecom\", StringType(), True)\n",
    "])\n",
    "\n",
    "# Create DataFrame with the specified schema\n",
    "result_df = spark.createDataFrame([], schema)"
   ]
  },
  {
   "cell_type": "code",
   "execution_count": 0,
   "metadata": {
    "application/vnd.databricks.v1+cell": {
     "cellMetadata": {
      "byteLimit": 2048000,
      "rowLimit": 10000
     },
     "inputWidgets": {},
     "nuid": "603725db-b97d-492f-93fd-6b008b592d76",
     "showTitle": false,
     "tableResultSettingsMap": {},
     "title": ""
    }
   },
   "outputs": [],
   "source": [
    "print(len(result_df.columns))"
   ]
  },
  {
   "cell_type": "code",
   "execution_count": 0,
   "metadata": {
    "application/vnd.databricks.v1+cell": {
     "cellMetadata": {
      "byteLimit": 2048000,
      "rowLimit": 10000
     },
     "inputWidgets": {},
     "nuid": "966cddc2-a8e9-4991-9f02-1826bba69c59",
     "showTitle": false,
     "tableResultSettingsMap": {},
     "title": ""
    }
   },
   "outputs": [],
   "source": [
    " \n",
    "# Function to clean column names\n",
    "def clean_column_name(col_name):\n",
    "    cleaned_name = col_name.strip()\n",
    "    cleaned_name = re.sub(r'\\s+', '_', cleaned_name)\n",
    "    cleaned_name = re.sub(r'[^a-zA-Z0-9_]', '', cleaned_name)\n",
    "    return cleaned_name\n",
    " \n",
    "# Function to replace null values\n",
    "def NullValueReplace(df):\n",
    "    for column_name in df.columns:\n",
    "        column_type = df.schema[column_name].dataType\n",
    "        if column_type in (IntegerType(), LongType(), ShortType(), ByteType()):\n",
    "            df = df.withColumn(column_name, when(df[column_name].isNull(), 0).otherwise(df[column_name]))\n",
    "        elif column_type == StringType():\n",
    "            df = df.withColumn(column_name, when(df[column_name].isNull(), \"Other\").otherwise(df[column_name]))\n",
    "        elif column_type == DoubleType():\n",
    "            df = df.withColumn(column_name, when(df[column_name].isNull(), 0.0).otherwise(df[column_name]))\n",
    "    return df\n",
    " \n",
    "# Function to drop unwanted columns\n",
    "def DropUnwantedColumns(df):\n",
    "    columns_to_drop = [\n",
    "        'Product_Fa', 'Material_Description_2', 'EWH_Region_Classification', 'ES_State',\n",
    "        'State_with_Haryana_1_2', 'Solar_Group', 'For_Split', 'Commercial_vs_Domestic',\n",
    "        'Source', 'PF01', 'Weeks'\n",
    "    ]\n",
    "    for column_name in columns_to_drop:\n",
    "        if column_name in df.columns:\n",
    "            df = df.drop(column_name)\n",
    "    return df\n",
    " \n",
    "# Load and process data\n",
    "threshold_time = datetime.now() - timedelta(hours=24)\n",
    "result_df = None  # Initialize an empty DataFrame\n",
    " \n",
    "for filePath in dbutils.fs.ls('mnt/bronze-gaurav'):\n",
    "    if datetime.fromtimestamp(filePath.modificationTime / 1000) > threshold_time:\n",
    "        path = filePath[0]\n",
    "        print(f\"Processing file: {path}\")\n",
    "        df = spark.read.format(\"csv\").options(header=True, inferSchema=True).load(path)\n",
    " \n",
    "        # Clean column names\n",
    "        current_columns = df.columns\n",
    "        cleaned_columns = [clean_column_name(col_name) for col_name in current_columns]\n",
    "        df = df.toDF(*cleaned_columns)\n",
    " \n",
    "        # Drop unwanted columns\n",
    "        df = DropUnwantedColumns(df)\n",
    " \n",
    "        # Replace null values\n",
    "        df = NullValueReplace(df)\n",
    " \n",
    "        # Standardize schema\n",
    "        df = df.withColumnRenamed('REF', 'Sales_Region') \\\n",
    "               .withColumnRenamed('Sales_Orde', 'Sales_Order') \\\n",
    "               .withColumnRenamed('Invoice_Da', 'Invoice_Date') \\\n",
    "               .withColumnRenamed('Plant', 'Plant_Id') \\\n",
    "               .withColumnRenamed('Cust_Grp', 'Customer_Grp_Id') \\\n",
    "               .withColumnRenamed('Customer_G', 'Customer_Grp_Name') \\\n",
    "               .withColumnRenamed('Sold_To', 'Customer_Id') \\\n",
    "               .withColumnRenamed('Sold_to_Party_Name', 'Customer_Name') \\\n",
    "               .withColumnRenamed('Sold_To_City', 'Address') \\\n",
    "               .withColumnRenamed('Material', 'Product_Id') \\\n",
    "               .withColumnRenamed('Material_Description', 'Product_Name') \\\n",
    "               .withColumnRenamed('Type', 'Product_Type') \\\n",
    "               .withColumnRenamed('Solar_Type', 'Product_Category')\n",
    " \n",
    "        # Initialize or union the DataFrame\n",
    "        if result_df is None:\n",
    "            result_df = df\n",
    "        else:\n",
    "            result_df = result_df.unionByName(df)\n",
    " \n",
    " \n",
    " \n",
    "# Show the final DataFrame\n",
    "if result_df:\n",
    "    result_df.show()\n",
    " \n",
    " "
   ]
  },
  {
   "cell_type": "code",
   "execution_count": 0,
   "metadata": {
    "application/vnd.databricks.v1+cell": {
     "cellMetadata": {
      "byteLimit": 2048000,
      "rowLimit": 10000
     },
     "inputWidgets": {},
     "nuid": "bb727a60-25ed-4fa7-81b8-3d6c68d1e036",
     "showTitle": false,
     "tableResultSettingsMap": {},
     "title": ""
    }
   },
   "outputs": [],
   "source": [
    "result_df.count()"
   ]
  },
  {
   "cell_type": "code",
   "execution_count": 0,
   "metadata": {
    "application/vnd.databricks.v1+cell": {
     "cellMetadata": {
      "byteLimit": 2048000,
      "rowLimit": 10000
     },
     "inputWidgets": {},
     "nuid": "75300825-817c-4611-837b-72494f005583",
     "showTitle": false,
     "tableResultSettingsMap": {},
     "title": ""
    }
   },
   "outputs": [],
   "source": [
    "df_single_partition = result_df.repartition(1)"
   ]
  },
  {
   "cell_type": "code",
   "execution_count": 0,
   "metadata": {
    "application/vnd.databricks.v1+cell": {
     "cellMetadata": {
      "byteLimit": 2048000,
      "rowLimit": 10000
     },
     "inputWidgets": {},
     "nuid": "d9a07437-dfe2-4d9d-8cfe-c7853da63867",
     "showTitle": false,
     "tableResultSettingsMap": {},
     "title": ""
    }
   },
   "outputs": [],
   "source": [
    "opt_path='/mnt/silver-gaurav'\n",
    "# result_df.write.option(\"header\",\"true\").csv(opt_path+'/'+'Df.csv',mode='ignore')\n",
    "df_single_partition.write.option(\"header\",\"true\").parquet(opt_path, mode='overwrite')"
   ]
  },
  {
   "cell_type": "markdown",
   "metadata": {
    "application/vnd.databricks.v1+cell": {
     "cellMetadata": {
      "byteLimit": 2048000,
      "rowLimit": 10000
     },
     "inputWidgets": {},
     "nuid": "8b9d3aab-40ca-4a40-9b2c-b1855d5af784",
     "showTitle": false,
     "tableResultSettingsMap": {},
     "title": ""
    }
   },
   "source": [
    "Code end here"
   ]
  },
  {
   "cell_type": "code",
   "execution_count": 0,
   "metadata": {
    "application/vnd.databricks.v1+cell": {
     "cellMetadata": {
      "byteLimit": 2048000,
      "rowLimit": 10000
     },
     "inputWidgets": {},
     "nuid": "9f75fdf6-e70d-4946-8d73-74fee1f880d5",
     "showTitle": false,
     "tableResultSettingsMap": {},
     "title": ""
    }
   },
   "outputs": [],
   "source": [
    "# from datetime import datetime, timedelta\n",
    "# # Define a threshold for recent modification time (e.g., within the last 24 hours)\n",
    "# threshold_time = datetime.now() - timedelta(hours=48)\n",
    "\n",
    "# # Filter the list to select only the recently added files\n",
    "# recent_files = list([file_info for file_info in dbutils.fs.ls('mnt/bronze') if datetime.fromtimestamp(file_info.modificationTime / 1000) > threshold_time])\n",
    "\n",
    "# # Print the list of recently added files\n",
    "# for file_path in recent_files:\n",
    "#     print(file_path) "
   ]
  },
  {
   "cell_type": "code",
   "execution_count": 0,
   "metadata": {
    "application/vnd.databricks.v1+cell": {
     "cellMetadata": {
      "byteLimit": 2048000,
      "rowLimit": 10000
     },
     "inputWidgets": {},
     "nuid": "c8b88c1c-ce29-4e36-8519-312b6aa82fae",
     "showTitle": false,
     "tableResultSettingsMap": {},
     "title": ""
    }
   },
   "outputs": [],
   "source": [
    "# path1=recent_files[0][0]\n",
    "# print(path1)"
   ]
  },
  {
   "cell_type": "code",
   "execution_count": 0,
   "metadata": {
    "application/vnd.databricks.v1+cell": {
     "cellMetadata": {
      "byteLimit": 2048000,
      "rowLimit": 10000
     },
     "inputWidgets": {},
     "nuid": "f86197f5-29e3-4844-ac28-be4fadc19d10",
     "showTitle": false,
     "tableResultSettingsMap": {},
     "title": ""
    }
   },
   "outputs": [],
   "source": [
    "# df=spark.read.format(\"csv\").options(header=True,inferschema=True).load(path1)\n",
    "# df.printSchema()"
   ]
  },
  {
   "cell_type": "code",
   "execution_count": 0,
   "metadata": {
    "application/vnd.databricks.v1+cell": {
     "cellMetadata": {
      "byteLimit": 2048000,
      "rowLimit": 10000
     },
     "inputWidgets": {},
     "nuid": "2fe25335-d9dc-4177-a10c-e4f2076a8b6d",
     "showTitle": false,
     "tableResultSettingsMap": {},
     "title": ""
    }
   },
   "outputs": [],
   "source": [
    "# print(len(df.columns))"
   ]
  },
  {
   "cell_type": "markdown",
   "metadata": {
    "application/vnd.databricks.v1+cell": {
     "cellMetadata": {
      "byteLimit": 2048000,
      "rowLimit": 10000
     },
     "inputWidgets": {},
     "nuid": "2bb94012-4801-4b7e-95d5-d39e5062af85",
     "showTitle": false,
     "tableResultSettingsMap": {},
     "title": ""
    }
   },
   "source": [
    "column name standerdization "
   ]
  },
  {
   "cell_type": "code",
   "execution_count": 0,
   "metadata": {
    "application/vnd.databricks.v1+cell": {
     "cellMetadata": {
      "byteLimit": 2048000,
      "rowLimit": 10000
     },
     "inputWidgets": {},
     "nuid": "fc37d847-234c-47e4-83bc-718b248a41e2",
     "showTitle": false,
     "tableResultSettingsMap": {},
     "title": ""
    }
   },
   "outputs": [],
   "source": [
    "# def clean_column_name(col_name):\n",
    "#     # Remove leading and trailing spaces\n",
    "#     cleaned_name = col_name.strip()\n",
    "#     # Replace spaces between words with underscores\n",
    "#     cleaned_name = re.sub(r'\\s+', '_', cleaned_name)\n",
    "#     # Replace special characters with empty string\n",
    "#     cleaned_name = re.sub(r'[^a-zA-Z0-9_]', '', cleaned_name)\n",
    "#     return cleaned_name\n",
    "\n",
    "# # Get the current column names\n",
    "# current_columns = df.columns\n",
    "\n",
    "# # Clean column names\n",
    "# cleaned_columns = [clean_column_name(col_name) for col_name in current_columns]\n",
    "\n",
    "# # Rename columns\n",
    "# df = df.toDF(*cleaned_columns)\n",
    "# # print(cleaned_columns)"
   ]
  },
  {
   "cell_type": "code",
   "execution_count": 0,
   "metadata": {
    "application/vnd.databricks.v1+cell": {
     "cellMetadata": {
      "byteLimit": 2048000,
      "rowLimit": 10000
     },
     "inputWidgets": {},
     "nuid": "5cb8a5dd-c146-4aa4-852a-985c629447af",
     "showTitle": false,
     "tableResultSettingsMap": {},
     "title": ""
    }
   },
   "outputs": [],
   "source": [
    "# df.printSchema()"
   ]
  },
  {
   "cell_type": "markdown",
   "metadata": {
    "application/vnd.databricks.v1+cell": {
     "cellMetadata": {
      "byteLimit": 2048000,
      "rowLimit": 10000
     },
     "inputWidgets": {},
     "nuid": "0819d7a3-5bf7-410d-b297-8e572f5b3bf2",
     "showTitle": false,
     "tableResultSettingsMap": {},
     "title": ""
    }
   },
   "source": [
    "Dropping Unwanted Columns"
   ]
  },
  {
   "cell_type": "code",
   "execution_count": 0,
   "metadata": {
    "application/vnd.databricks.v1+cell": {
     "cellMetadata": {
      "byteLimit": 2048000,
      "rowLimit": 10000
     },
     "inputWidgets": {},
     "nuid": "5a1ad36c-0486-4375-a129-ade4eb47d880",
     "showTitle": false,
     "tableResultSettingsMap": {},
     "title": ""
    }
   },
   "outputs": [],
   "source": [
    "# df=df.drop('Product_Fa','Material_Description_2','EWH_Region_Classification','ES_State',\n",
    "#             'State_with_Haryana_1_2','Solar_Group','For_Split','Commercial_vs_Domestic')\n",
    "\n",
    "# #Dropping Additional column which is present only in first sheet\n",
    "# for column_name in df.columns:\n",
    "#     if column_name=='Source':\n",
    "#         df=df.drop('Source')\n",
    "#     if column_name=='PF01':\n",
    "#         df=df.drop('PF01')\n"
   ]
  },
  {
   "cell_type": "code",
   "execution_count": 0,
   "metadata": {
    "application/vnd.databricks.v1+cell": {
     "cellMetadata": {
      "byteLimit": 2048000,
      "rowLimit": 10000
     },
     "inputWidgets": {},
     "nuid": "c4c0b7dc-aafd-4d55-82af-7c80069481ac",
     "showTitle": false,
     "tableResultSettingsMap": {},
     "title": ""
    }
   },
   "outputs": [],
   "source": [
    "# print(len(df.columns))"
   ]
  },
  {
   "cell_type": "code",
   "execution_count": 0,
   "metadata": {
    "application/vnd.databricks.v1+cell": {
     "cellMetadata": {
      "byteLimit": 2048000,
      "rowLimit": 10000
     },
     "inputWidgets": {},
     "nuid": "81b22cf3-dbc9-42e0-bd00-0aa032311f43",
     "showTitle": false,
     "tableResultSettingsMap": {},
     "title": ""
    }
   },
   "outputs": [],
   "source": [
    "# df.printSchema()"
   ]
  },
  {
   "cell_type": "markdown",
   "metadata": {
    "application/vnd.databricks.v1+cell": {
     "cellMetadata": {
      "byteLimit": 2048000,
      "rowLimit": 10000
     },
     "inputWidgets": {},
     "nuid": "dce99d49-ef03-4513-b452-4b413ec9ed12",
     "showTitle": false,
     "tableResultSettingsMap": {},
     "title": ""
    }
   },
   "source": [
    "Checking null values and replacing it as per data type\n"
   ]
  },
  {
   "cell_type": "code",
   "execution_count": 0,
   "metadata": {
    "application/vnd.databricks.v1+cell": {
     "cellMetadata": {
      "byteLimit": 2048000,
      "rowLimit": 10000
     },
     "inputWidgets": {},
     "nuid": "39b0947e-08c6-410c-9355-ca8c7292cae4",
     "showTitle": false,
     "tableResultSettingsMap": {},
     "title": ""
    }
   },
   "outputs": [],
   "source": [
    "# # Iterate over each column\n",
    "# for column_name in df.columns:\n",
    "#     # Check if the column contains null values\n",
    "#     if df.filter(df[column_name].isNull()).count() > 0:\n",
    "#         # Get the data type of the column\n",
    "#         column_type = df.schema[column_name].dataType\n",
    "#         # Replace null values based on the data type\n",
    "#         if column_type in (IntegerType(), LongType(), ShortType(), ByteType()):\n",
    "#             df = df.withColumn(column_name, when(df[column_name].isNull(), 0).otherwise(df[column_name]))\n",
    "#         elif column_type == StringType():\n",
    "#             df = df.withColumn(column_name, when(df[column_name].isNull(), \"Other\").otherwise(df[column_name]))\n",
    "#         elif column_type == DoubleType():\n",
    "#             df = df.withColumn(column_name, when(df[column_name].isNull(), 0.0).otherwise(df[column_name]))"
   ]
  },
  {
   "cell_type": "markdown",
   "metadata": {
    "application/vnd.databricks.v1+cell": {
     "cellMetadata": {
      "byteLimit": 2048000,
      "rowLimit": 10000
     },
     "inputWidgets": {},
     "nuid": "8daaa292-3960-4149-940d-51206b42eec2",
     "showTitle": false,
     "tableResultSettingsMap": {},
     "title": ""
    }
   },
   "source": [
    "column Rename \n",
    " "
   ]
  },
  {
   "cell_type": "code",
   "execution_count": 0,
   "metadata": {
    "application/vnd.databricks.v1+cell": {
     "cellMetadata": {
      "byteLimit": 2048000,
      "rowLimit": 10000
     },
     "inputWidgets": {},
     "nuid": "65eeb5e4-78d3-4f4b-b6de-451429456910",
     "showTitle": false,
     "tableResultSettingsMap": {},
     "title": ""
    }
   },
   "outputs": [],
   "source": [
    "# clm=df.columns\n",
    "# print(clm)"
   ]
  },
  {
   "cell_type": "code",
   "execution_count": 0,
   "metadata": {
    "application/vnd.databricks.v1+cell": {
     "cellMetadata": {
      "byteLimit": 2048000,
      "rowLimit": 10000
     },
     "inputWidgets": {},
     "nuid": "0271fa15-882f-4bbe-89ed-76e22564d618",
     "showTitle": false,
     "tableResultSettingsMap": {},
     "title": ""
    }
   },
   "outputs": [],
   "source": [
    "# df=df.withColumnRenamed('REF','Sales_Region')\\\n",
    "#     .withColumnRenamed('Sales_Orde','Sales_Order')\\\n",
    "#     .withColumnRenamed('Invoice_Da','Invoice_Date')\\\n",
    "#     .withColumnRenamed('Plant','Plant_Id')\\\n",
    "#     .withColumnRenamed('Cust_Grp','Customer_Grp_Id')\\\n",
    "#     .withColumnRenamed('Customer_G','Customer_Grp_Name')\\\n",
    "#     .withColumnRenamed('Sold_To','Customer_Id')\\\n",
    "#     .withColumnRenamed('Sold_to_Party_Name','Customer_Name')\\\n",
    "#     .withColumnRenamed('Sold_To_City','Address')\\\n",
    "#     .withColumnRenamed('Material','Product_Id')\\\n",
    "#     .withColumnRenamed('Material_Description','Product_Name')\\\n",
    "#     .withColumnRenamed('Type','Product_Type')\\\n",
    "#     .withColumnRenamed('Solar_Type','Product_Category')"
   ]
  },
  {
   "cell_type": "code",
   "execution_count": 0,
   "metadata": {
    "application/vnd.databricks.v1+cell": {
     "cellMetadata": {
      "byteLimit": 2048000,
      "rowLimit": 10000
     },
     "inputWidgets": {},
     "nuid": "4e957f0e-37a6-4ef0-a581-762e8d421181",
     "showTitle": false,
     "tableResultSettingsMap": {},
     "title": ""
    }
   },
   "outputs": [],
   "source": [
    "# print(df.columns)"
   ]
  },
  {
   "cell_type": "code",
   "execution_count": 0,
   "metadata": {
    "application/vnd.databricks.v1+cell": {
     "cellMetadata": {
      "byteLimit": 2048000,
      "rowLimit": 10000
     },
     "inputWidgets": {},
     "nuid": "56474bf5-52d0-46b1-beca-089a690343af",
     "showTitle": false,
     "tableResultSettingsMap": {},
     "title": ""
    }
   },
   "outputs": [],
   "source": [
    "# clm= ['Sales_Region', 'Plant_Id', 'Sorg', 'Dch', 'Div', 'Item_Categ', 'Customer_Grp_Id', 'Customer_Grp_Name', 'Order_type', 'Sales_Order', 'Invoice_No', 'Invoice_Date', 'Weeks', 'State_Name', 'Sales_Zone', 'Customer_Id', 'Customer_Name', 'Address', 'Product_Id', 'Product_Name', 'Quantity', 'Basic_Rate', 'Special_Ra', 'Basic_Amt', 'Discount_A', 'Net_Amt_DC', 'D380', 'Type_Calculations', 'Product_Family', 'Product_Type', 'Product_Category', 'Quantity_2', 'Per_Coll', 'Number_of_Coll', 'Andris', 'EWH_Groups', 'Ecom']\n",
    "# print(len(clm))"
   ]
  },
  {
   "cell_type": "markdown",
   "metadata": {
    "application/vnd.databricks.v1+cell": {
     "cellMetadata": {
      "byteLimit": 2048000,
      "rowLimit": 10000
     },
     "inputWidgets": {},
     "nuid": "51073ab7-39b5-4f25-8eff-d53b46e9501e",
     "showTitle": false,
     "tableResultSettingsMap": {},
     "title": ""
    }
   },
   "source": [
    "Before it merge all sheet data to single df "
   ]
  },
  {
   "cell_type": "markdown",
   "metadata": {
    "application/vnd.databricks.v1+cell": {
     "cellMetadata": {
      "byteLimit": 2048000,
      "rowLimit": 10000
     },
     "inputWidgets": {},
     "nuid": "722c8ed0-9dff-4819-9172-c04afa12f52c",
     "showTitle": false,
     "tableResultSettingsMap": {},
     "title": ""
    }
   },
   "source": [
    "Creating fact and dimentions"
   ]
  },
  {
   "cell_type": "code",
   "execution_count": 0,
   "metadata": {
    "application/vnd.databricks.v1+cell": {
     "cellMetadata": {
      "byteLimit": 2048000,
      "rowLimit": 10000
     },
     "inputWidgets": {},
     "nuid": "1d06e6e4-e15e-4de5-a981-89cf9a578d79",
     "showTitle": false,
     "tableResultSettingsMap": {},
     "title": ""
    }
   },
   "outputs": [],
   "source": [
    "# def cust_dim(df):\n",
    "#   customer_df=df.select('Customer_Id','Customer_Name','Address')\n",
    "#   df=df.drop('Customer_Name','Address') #dropping columns from main table which are taken in cusomer df\n",
    "#   customer_df=customer_df.dropDuplicates(['Customer_Id'])\n",
    "#   # customer_df.show()\n",
    "#   return customer_df, df\n",
    "\n",
    "# def plant_dim(df):\n",
    "#   plant_df=df.select('Plant_Id','Sorg','Dch','Div')\n",
    "#   #dropping columns from main table which are taken in pant df\n",
    "#   df=df.drop('Sorg','Dch','Div')\n",
    "#   plant_df=plant_df.dropDuplicates(['Plant_Id','Dch'])\n",
    "#   return plant_df, df\n",
    "\n",
    "# def custgrp_dim(df):\n",
    "#   custgrp_df=df.select('Customer_Grp_Id','Customer_Grp_Name')\n",
    "#   print(\"Before\",custgrp_df.count())\n",
    "#   #dropping columns from main table which are taken in pant df\n",
    "#   df=df.drop('Customer_Grp_Name')\n",
    "#   custgrp_df=custgrp_df.dropDuplicates(['Customer_Grp_Id'])\n",
    "#   print(\"After\",custgrp_df.count())\n",
    "#   return custgrp_df, df\n",
    "\n",
    "# def product_dim(df):\n",
    "#   material_df=df.select('Product_Id','Product_Name','Product_Category','Product_Type','Andris','EWH_Groups')\n",
    "#   print(\"Before\",material_df.count())\n",
    "#   #dropping columns from main table which are taken in pant df\n",
    "#   df=df.drop('Product_Name','Product_Category','Product_Type','Andris','EWH_Groups')\n",
    "#   material_df=material_df.dropDuplicates(['Product_Id'])\n",
    "#   print(\"After\",material_df.count())\n",
    "#   return material_df, df\n",
    "\n",
    "# def location_dim(df):\n",
    "#   location_df=df.select(col('State_Name').alias('StateName'),col('Sales_Zone').alias('SalesZone'),col('Sales_Region').alias('SalesRegion'))\n",
    "#   location_df=location_df.dropDuplicates(['StateName','SalesZone','SalesRegion'])\n",
    "#   # Add a unique id column to the existing dataframe\n",
    "#   location_df = location_df.withColumn(\"StateId\", monotonically_increasing_id())\n",
    "#   # Convert the id column to a string\n",
    "#   location_df = location_df.withColumn(\"StateId\", concat(lit(\"S\"), col(\"StateId\").cast(\"string\")))\n",
    "#   return location_df, df"
   ]
  },
  {
   "cell_type": "markdown",
   "metadata": {
    "application/vnd.databricks.v1+cell": {
     "cellMetadata": {
      "byteLimit": 2048000,
      "rowLimit": 10000
     },
     "inputWidgets": {},
     "nuid": "46c4f049-b74e-4186-80f0-03f0cebecdb8",
     "showTitle": false,
     "tableResultSettingsMap": {},
     "title": ""
    }
   },
   "source": [
    "Creating Fact and Dimentions"
   ]
  },
  {
   "cell_type": "code",
   "execution_count": 0,
   "metadata": {
    "application/vnd.databricks.v1+cell": {
     "cellMetadata": {
      "byteLimit": 2048000,
      "rowLimit": 10000
     },
     "inputWidgets": {},
     "nuid": "e3a8419b-93d1-48af-ac8e-ef9e7e16bbb3",
     "showTitle": false,
     "tableResultSettingsMap": {},
     "title": ""
    }
   },
   "outputs": [],
   "source": [
    "# #Creating Customer Dimention\n",
    "# customer_df,df=cust_dim(df)\n",
    "# #Creating Plant Dimention\n",
    "# plant_df,df=plant_dim(df)\n",
    "# #Creating Customer_group Dimention\n",
    "# custgrp_df,df=custgrp_dim(df)\n",
    "# #Creating product Dimention\n",
    "# product_df,df=product_dim(df)\n",
    "# #Creating Location Dimention\n",
    "# location_df,df=location_dim(df)\n",
    "# location_df.dropDuplicates(['StateId'])\n",
    "# #addting loaction_id to fact data frame \n",
    "# df = df.join(location_df,\n",
    "#                     (df.State_Name == location_df.StateName) &\n",
    "#                     (df.Sales_Zone == location_df.SalesZone) &\n",
    "#                     (df.Sales_Region == location_df.SalesRegion),\n",
    "#                     \"left\")\n",
    "# df=df.drop(\"State_Name\",\"Sales_Zone\",\"Sales_Region\",\"StateName\",\"SalesZone\",\"SalesRegion\")\n",
    "# #Df is fact data frame"
   ]
  },
  {
   "cell_type": "code",
   "execution_count": 0,
   "metadata": {
    "application/vnd.databricks.v1+cell": {
     "cellMetadata": {
      "byteLimit": 2048000,
      "rowLimit": 10000
     },
     "inputWidgets": {},
     "nuid": "ccdb2619-4657-44aa-93ce-602e5dfe17ea",
     "showTitle": false,
     "tableResultSettingsMap": {},
     "title": ""
    }
   },
   "outputs": [],
   "source": [
    "# demo_df.write.option(\"header\",\"true\").csv(opt_path+'/'+'demodf',mode='ignore')\n",
    "# location_df.write.option(\"header\",\"true\").csv(opt_path+'/'+'locationDf',mode='ignore')"
   ]
  },
  {
   "cell_type": "code",
   "execution_count": 0,
   "metadata": {
    "application/vnd.databricks.v1+cell": {
     "cellMetadata": {
      "byteLimit": 2048000,
      "rowLimit": 10000
     },
     "inputWidgets": {},
     "nuid": "7d9f7a50-e634-421a-86c6-7eb2c2d06565",
     "showTitle": false,
     "tableResultSettingsMap": {},
     "title": ""
    }
   },
   "outputs": [],
   "source": [
    "\n",
    "# df.write.option(\"header\",\"true\").csv(opt_path+'/'+'salesfactData',mode='ignore')"
   ]
  },
  {
   "cell_type": "markdown",
   "metadata": {
    "application/vnd.databricks.v1+cell": {
     "cellMetadata": {},
     "inputWidgets": {},
     "nuid": "fe5d83b4-2025-4c31-b95e-34cd73a4fb55",
     "showTitle": false,
     "tableResultSettingsMap": {},
     "title": ""
    }
   },
   "source": [
    "## GIT changes"
   ]
  },
  {
   "cell_type": "code",
   "execution_count": 0,
   "metadata": {
    "application/vnd.databricks.v1+cell": {
     "cellMetadata": {},
     "inputWidgets": {},
     "nuid": "decb1ef0-117a-48e3-933e-6963157acd35",
     "showTitle": false,
     "tableResultSettingsMap": {},
     "title": ""
    }
   },
   "outputs": [],
   "source": [
    "# df.write.option(\"header\",\"true\").csv(opt_path+'/'+'salesfactData',mode='ignore')"
   ]
  }
 ],
 "metadata": {
  "application/vnd.databricks.v1+notebook": {
   "computePreferences": null,
   "dashboards": [],
   "environmentMetadata": null,
   "inputWidgetPreferences": null,
   "language": "python",
   "notebookMetadata": {
    "pythonIndentUnit": 4
   },
   "notebookName": "(Clone) Bronze-to-silver",
   "widgets": {}
  },
  "language_info": {
   "name": "python"
  }
 },
 "nbformat": 4,
 "nbformat_minor": 0
}
